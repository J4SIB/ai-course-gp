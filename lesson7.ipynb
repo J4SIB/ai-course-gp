{
  "nbformat": 4,
  "nbformat_minor": 0,
  "metadata": {
    "colab": {
      "provenance": [],
      "authorship_tag": "ABX9TyNbLeY9CalaE9+Oo1fiwABH",
      "include_colab_link": true
    },
    "kernelspec": {
      "name": "python3",
      "display_name": "Python 3"
    },
    "language_info": {
      "name": "python"
    }
  },
  "cells": [
    {
      "cell_type": "markdown",
      "metadata": {
        "id": "view-in-github",
        "colab_type": "text"
      },
      "source": [
        "<a href=\"https://colab.research.google.com/github/J4SIB/ai-course-gp/blob/main/lesson7.ipynb\" target=\"_parent\"><img src=\"https://colab.research.google.com/assets/colab-badge.svg\" alt=\"Open In Colab\"/></a>"
      ]
    },
    {
      "cell_type": "code",
      "source": [
        "!python --version\n"
      ],
      "metadata": {
        "colab": {
          "base_uri": "https://localhost:8080/"
        },
        "id": "zEgc0vgOTjR6",
        "outputId": "e8d3179f-5593-427b-8f6a-7c0e9d0ced0f"
      },
      "execution_count": 4,
      "outputs": [
        {
          "output_type": "stream",
          "name": "stdout",
          "text": [
            "Python 3.12.11\n"
          ]
        }
      ]
    },
    {
      "cell_type": "code",
      "source": [
        "import sys\n",
        "print(sys.version)"
      ],
      "metadata": {
        "colab": {
          "base_uri": "https://localhost:8080/"
        },
        "id": "dlNBgwyeUAgW",
        "outputId": "e5e6952c-e92d-4078-bc55-83e5d8089eb4"
      },
      "execution_count": 13,
      "outputs": [
        {
          "output_type": "stream",
          "name": "stdout",
          "text": [
            "3.12.11 (main, Jun  4 2025, 08:56:18) [GCC 11.4.0]\n"
          ]
        }
      ]
    },
    {
      "cell_type": "code",
      "source": [
        "!pip freeze"
      ],
      "metadata": {
        "id": "US7ewxzxUYOG"
      },
      "execution_count": null,
      "outputs": []
    },
    {
      "cell_type": "code",
      "source": [
        "import numpy as np\n",
        "\n",
        "\n",
        "array = np.array([1, 2, 3, 4, 5, 6, 7, 8, 9, 10, 11 ,12])\n",
        "\n",
        "print(array)\n",
        "print(np.shape(array))\n",
        "\n",
        "array2x6 = array.reshape(2,6)\n",
        "print(array2x6)\n",
        "\n",
        "array2x2x3 = array.reshape(2,2,3)\n",
        "print(array2x2x3)\n",
        "\n",
        "zagadka = array.reshape(4, -1)\n",
        "print(zagadka)\n",
        "\n"
      ],
      "metadata": {
        "colab": {
          "base_uri": "https://localhost:8080/"
        },
        "id": "ej2QbKZ0X0ae",
        "outputId": "e65e10b6-3872-4606-8ed6-1fd90fd1da70"
      },
      "execution_count": 17,
      "outputs": [
        {
          "output_type": "stream",
          "name": "stdout",
          "text": [
            "[ 1  2  3  4  5  6  7  8  9 10 11 12]\n",
            "(12,)\n",
            "[[ 1  2  3  4  5  6]\n",
            " [ 7  8  9 10 11 12]]\n",
            "[[[ 1  2  3]\n",
            "  [ 4  5  6]]\n",
            "\n",
            " [[ 7  8  9]\n",
            "  [10 11 12]]]\n",
            "[[ 1  2  3]\n",
            " [ 4  5  6]\n",
            " [ 7  8  9]\n",
            " [10 11 12]]\n"
          ]
        }
      ]
    },
    {
      "cell_type": "code",
      "source": [
        "unsorted = np.array([8, 16, 1, -10])\n",
        "\n",
        "print(unsorted)\n",
        "\n",
        "sorted = np.sort(unsorted)\n",
        "print(sorted)"
      ],
      "metadata": {
        "colab": {
          "base_uri": "https://localhost:8080/"
        },
        "id": "f2rmjWu9cHHE",
        "outputId": "06b547f9-8e66-4949-e2a3-3c01e7b07cb5"
      },
      "execution_count": 18,
      "outputs": [
        {
          "output_type": "stream",
          "name": "stdout",
          "text": [
            "[  8  16   1 -10]\n",
            "[-10   1   8  16]\n"
          ]
        }
      ]
    },
    {
      "cell_type": "code",
      "source": [
        "unsorted2D = np.array([[7, 2, 9],\n",
        " [4, 8, 1],\n",
        " [5, 6, 3]])\n",
        "print(f\"Nieposortowana tablica {unsorted2D}\")\n",
        "\n",
        "sorted2D_axis0 = np.sort(unsorted2D,axis=0)\n",
        "print(f\"Tablica posortowana wzdłuż krawędzi 0:\\n{sorted2D_axis0}\")\n",
        "sorted2D_axis1 = np.sort(unsorted2D,axis=1)\n",
        "print(f\"Tablica posortowana wzdłuż krawędzi 1:\\n{sorted2D_axis1}\")"
      ],
      "metadata": {
        "colab": {
          "base_uri": "https://localhost:8080/"
        },
        "id": "fflAvKsedZdc",
        "outputId": "dcbcce1b-4e4e-4a37-d423-7d91524065d8"
      },
      "execution_count": 19,
      "outputs": [
        {
          "output_type": "stream",
          "name": "stdout",
          "text": [
            "Nieposortowana tablica [[7 2 9]\n",
            " [4 8 1]\n",
            " [5 6 3]]\n",
            "Tablica posortowana wzdłuż krawędzi 0:\n",
            "[[4 2 1]\n",
            " [5 6 3]\n",
            " [7 8 9]]\n",
            "Tablica posortowana wzdłuż krawędzi 1:\n",
            "[[2 7 9]\n",
            " [1 4 8]\n",
            " [3 5 6]]\n"
          ]
        }
      ]
    },
    {
      "cell_type": "code",
      "source": [
        "players_data = np.array([\n",
        " (\"Faker\", \"T1\", 5),\n",
        " (\"TheShy\", \"Weibo Gaming\", 1),\n",
        " (\"Uzi\", \"Emerytowany\", 0),\n",
        " (\"Ruler\", \"JD Gaming\", 1),\n",
        " (\"Doinb\", \"Emerytowany\", 1),\n",
        " (\"Rekkles\", \"Los Ratones\", 1),\n",
        " (\"Caps\", \"G2 Esports\", 0)\n",
        " ], dtype= [('Nick', 'U30'), ('Team', 'U30'), ('Worlds Title Count', 'i4')])\n",
        "\n",
        "print(np.sort(players_data, order = 'Nick'))"
      ],
      "metadata": {
        "colab": {
          "base_uri": "https://localhost:8080/"
        },
        "id": "DL-a7A_teF-w",
        "outputId": "aec4d885-d70e-4b42-ff86-6fb3754ade9f"
      },
      "execution_count": 22,
      "outputs": [
        {
          "output_type": "stream",
          "name": "stdout",
          "text": [
            "[('Caps', 'G2 Esports', 0) ('Uzi', 'Emerytowany', 0)\n",
            " ('Doinb', 'Emerytowany', 1) ('Rekkles', 'Los Ratones', 1)\n",
            " ('Ruler', 'JD Gaming', 1) ('TheShy', 'Weibo Gaming', 1)\n",
            " ('Faker', 'T1', 5)]\n"
          ]
        }
      ]
    },
    {
      "cell_type": "code",
      "source": [
        "from numpy import random\n",
        "\n",
        "for i in range(10):\n",
        "  print(random.rand()*2-1)\n"
      ],
      "metadata": {
        "colab": {
          "base_uri": "https://localhost:8080/"
        },
        "id": "rkB9Oeyrf40d",
        "outputId": "089c28f5-efc9-405c-c585-cd2b3ac1c5b0"
      },
      "execution_count": 39,
      "outputs": [
        {
          "output_type": "stream",
          "name": "stdout",
          "text": [
            "0.8765039636659275\n",
            "0.18093773667837798\n",
            "-0.3272853220364371\n",
            "-0.49916885318865933\n",
            "-0.5491009373261933\n",
            "-0.8249831765355622\n",
            "0.3099688433438268\n",
            "-0.8470079823745336\n",
            "-0.5359733166104277\n",
            "0.6641271590409081\n"
          ]
        }
      ]
    },
    {
      "cell_type": "code",
      "source": [
        "daty = [1241, 972, 1605, 1444, 1683]\n",
        "print(f\"Zbiór dat {daty}\")\n",
        "print(f\"Losowa data ze zbioru {random.choice(daty)}\")\n",
        "print(f\"Losowe 3 losowe daty ze zbioru: {random.choice(daty, 3)}\")\n",
        "\n",
        "random.shuffle(daty)\n",
        "print(daty)\n"
      ],
      "metadata": {
        "colab": {
          "base_uri": "https://localhost:8080/"
        },
        "id": "YmzzKwIlh4bz",
        "outputId": "0ee52602-a383-4225-adbb-8d993c5a5dbe"
      },
      "execution_count": 42,
      "outputs": [
        {
          "output_type": "stream",
          "name": "stdout",
          "text": [
            "Zbiór dat [1241, 972, 1605, 1444, 1683]\n",
            "Losowa data ze zbioru 1241\n",
            "Losowe 3 losowe daty ze zbioru: [1444 1241 1241]\n",
            "[1444, 1683, 1605, 972, 1241]\n"
          ]
        }
      ]
    },
    {
      "cell_type": "code",
      "source": [
        "array = np.array([1, 2, 3, 4, 5, 6, 7, 8, 9, 10, 11 ,12])\n",
        "\n",
        "print(array[2:5])\n",
        "print(array[:5])\n",
        "print(array[5:])\n",
        "print(array[-3:-1])\n"
      ],
      "metadata": {
        "colab": {
          "base_uri": "https://localhost:8080/"
        },
        "id": "7gBZjwPTiSFM",
        "outputId": "18732224-2ea8-4146-a17a-811391135826"
      },
      "execution_count": 49,
      "outputs": [
        {
          "output_type": "stream",
          "name": "stdout",
          "text": [
            "[3 4 5]\n",
            "[1 2 3 4 5]\n",
            "[ 6  7  8  9 10 11 12]\n",
            "[10 11]\n"
          ]
        }
      ]
    },
    {
      "cell_type": "code",
      "source": [
        "array2D =np.array( [[1 ,2 , 3, 4 , 5],\n",
        "                    [6 ,7 , 8, 9, 10],\n",
        "                    [11, 12, 13, 14, 6]])\n",
        "print(np.where(array2D % 2))\n"
      ],
      "metadata": {
        "colab": {
          "base_uri": "https://localhost:8080/"
        },
        "id": "iHZcX9fLjurV",
        "outputId": "e5eaf741-53d3-4645-955f-878658240cc2"
      },
      "execution_count": 58,
      "outputs": [
        {
          "output_type": "stream",
          "name": "stdout",
          "text": [
            "(array([0, 0, 0, 1, 1, 2, 2]), array([0, 2, 4, 1, 3, 0, 2]))\n"
          ]
        }
      ]
    }
  ]
}