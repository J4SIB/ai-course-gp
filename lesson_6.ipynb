{
  "nbformat": 4,
  "nbformat_minor": 0,
  "metadata": {
    "colab": {
      "provenance": [],
      "authorship_tag": "ABX9TyNnZyhyF9oC4uxHXDG0OG0d",
      "include_colab_link": true
    },
    "kernelspec": {
      "name": "python3",
      "display_name": "Python 3"
    },
    "language_info": {
      "name": "python"
    }
  },
  "cells": [
    {
      "cell_type": "markdown",
      "metadata": {
        "id": "view-in-github",
        "colab_type": "text"
      },
      "source": [
        "<a href=\"https://colab.research.google.com/github/J4SIB/ai-course-gp/blob/main/lesson_6.ipynb\" target=\"_parent\"><img src=\"https://colab.research.google.com/assets/colab-badge.svg\" alt=\"Open In Colab\"/></a>"
      ]
    },
    {
      "cell_type": "code",
      "execution_count": 7,
      "metadata": {
        "id": "ACTcEkdFO6CS",
        "colab": {
          "base_uri": "https://localhost:8080/"
        },
        "outputId": "46366c45-7eb9-4948-cf27-ab5a0c124076"
      },
      "outputs": [
        {
          "output_type": "stream",
          "name": "stdout",
          "text": [
            "hello\n"
          ]
        }
      ],
      "source": [
        "num = 3\n",
        "print(\"hello\")"
      ]
    },
    {
      "cell_type": "code",
      "source": [
        "print(num)\n"
      ],
      "metadata": {
        "colab": {
          "base_uri": "https://localhost:8080/"
        },
        "id": "KRyHi7qlRJG0",
        "outputId": "58977b0c-c979-47e6-961c-a8c72a29d2ec"
      },
      "execution_count": 6,
      "outputs": [
        {
          "output_type": "stream",
          "name": "stdout",
          "text": [
            "3\n"
          ]
        }
      ]
    },
    {
      "cell_type": "markdown",
      "source": [
        "komenda wypisuje numer 3"
      ],
      "metadata": {
        "id": "tK__C4OjRCYn"
      }
    }
  ]
}