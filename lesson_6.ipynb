{
  "nbformat": 4,
  "nbformat_minor": 0,
  "metadata": {
    "colab": {
      "provenance": [],
      "authorship_tag": "ABX9TyMldshXzYgYr9br517GEctX",
      "include_colab_link": true
    },
    "kernelspec": {
      "name": "python3",
      "display_name": "Python 3"
    },
    "language_info": {
      "name": "python"
    }
  },
  "cells": [
    {
      "cell_type": "markdown",
      "metadata": {
        "id": "view-in-github",
        "colab_type": "text"
      },
      "source": [
        "<a href=\"https://colab.research.google.com/github/J4SIB/ai-course-gp/blob/main/lesson_6.ipynb\" target=\"_parent\"><img src=\"https://colab.research.google.com/assets/colab-badge.svg\" alt=\"Open In Colab\"/></a>"
      ]
    },
    {
      "cell_type": "code",
      "execution_count": 7,
      "metadata": {
        "id": "ACTcEkdFO6CS",
        "colab": {
          "base_uri": "https://localhost:8080/"
        },
        "outputId": "46366c45-7eb9-4948-cf27-ab5a0c124076"
      },
      "outputs": [
        {
          "output_type": "stream",
          "name": "stdout",
          "text": [
            "hello\n"
          ]
        }
      ],
      "source": [
        "num = 3\n",
        "print(\"hello\")"
      ]
    },
    {
      "cell_type": "markdown",
      "source": [
        "komenda wypisuje numer 3"
      ],
      "metadata": {
        "id": "tK__C4OjRCYn"
      }
    },
    {
      "cell_type": "code",
      "source": [
        "print(num)\n"
      ],
      "metadata": {
        "colab": {
          "base_uri": "https://localhost:8080/"
        },
        "id": "KRyHi7qlRJG0",
        "outputId": "58977b0c-c979-47e6-961c-a8c72a29d2ec"
      },
      "execution_count": 6,
      "outputs": [
        {
          "output_type": "stream",
          "name": "stdout",
          "text": [
            "3\n"
          ]
        }
      ]
    },
    {
      "cell_type": "markdown",
      "source": [
        "typy rzeczy"
      ],
      "metadata": {
        "id": "J8B2aK4LewQY"
      }
    },
    {
      "cell_type": "code",
      "source": [
        "num = 10\n",
        "float_num = 5.50\n",
        "text = \"Hello\"\n",
        "bool_variable = False\n",
        "\n",
        "print(text)\n",
        "\n",
        "print(f\"liczba: {num}, średnia: {float_num}\")\n",
        "print(type(num))\n"
      ],
      "metadata": {
        "colab": {
          "base_uri": "https://localhost:8080/"
        },
        "id": "TcbY6PBjcP5T",
        "outputId": "cb7a4c96-d3ea-4cc1-f0ca-e09e458c427b"
      },
      "execution_count": 9,
      "outputs": [
        {
          "output_type": "stream",
          "name": "stdout",
          "text": [
            "Hello\n",
            "liczba: 10, średnia: 5.5\n",
            "<class 'int'>\n"
          ]
        }
      ]
    },
    {
      "cell_type": "markdown",
      "source": [
        "lista"
      ],
      "metadata": {
        "id": "_Z8VqeCte3lN"
      }
    },
    {
      "cell_type": "code",
      "source": [
        "games = [\"hollow knight\", \"Forza Horizon 5\", \"Skate.\"]\n",
        "print(games)\n",
        "print(games[0])\n",
        "\n",
        "games.append(\"ForzaMotorsport\")\n",
        "print(games)\n"
      ],
      "metadata": {
        "colab": {
          "base_uri": "https://localhost:8080/"
        },
        "id": "R9lvdIqcda6Q",
        "outputId": "81c2309e-26b5-438d-ebea-f2b0a2bdb6e3"
      },
      "execution_count": 13,
      "outputs": [
        {
          "output_type": "stream",
          "name": "stdout",
          "text": [
            "['hollow knight', 'Forza Horizon 5', 'Skate.']\n",
            "hollow knight\n",
            "['hollow knight', 'Forza Horizon 5', 'Skate.', 'ForzaMotorsport']\n"
          ]
        }
      ]
    },
    {
      "cell_type": "code",
      "source": [
        "print(int(\"011110\", 2))\n",
        "print(int(\"FF\",16))"
      ],
      "metadata": {
        "colab": {
          "base_uri": "https://localhost:8080/"
        },
        "id": "xXAN_zFbeszB",
        "outputId": "25b13f7e-3e09-440c-dd68-cf691aaaff52"
      },
      "execution_count": 14,
      "outputs": [
        {
          "output_type": "stream",
          "name": "stdout",
          "text": [
            "30\n",
            "255\n"
          ]
        }
      ]
    },
    {
      "cell_type": "code",
      "source": [
        "Temperature = float(input(\"Podaj temperature: \"))\n",
        "\n",
        "if Temperature < 20:\n",
        "  print(\"Grzeje\")\n",
        "elif Temperature > 22:\n",
        "  print(\"Wyłączam się\")\n",
        "else:\n",
        "  print(\"Temperatura w normie\")"
      ],
      "metadata": {
        "colab": {
          "base_uri": "https://localhost:8080/"
        },
        "id": "hKZ2IyZ_fZuc",
        "outputId": "d1eaa5f2-8115-4dd7-b6a3-f03bb0dc41cc"
      },
      "execution_count": 21,
      "outputs": [
        {
          "output_type": "stream",
          "name": "stdout",
          "text": [
            "Podaj temperature: 22\n",
            "Temperatura w normie\n"
          ]
        }
      ]
    },
    {
      "cell_type": "code",
      "source": [
        "for game in games:\n",
        "  print(game)\n",
        "\n",
        "for i in range(5):\n",
        "  print(i)\n",
        "\n",
        "for i in range(-8, 19, 3):\n",
        "  print(i)"
      ],
      "metadata": {
        "colab": {
          "base_uri": "https://localhost:8080/"
        },
        "id": "XBS7vmj7gNrG",
        "outputId": "6d21fc42-bf1c-4b53-a9b3-b916d1fc4060"
      },
      "execution_count": 25,
      "outputs": [
        {
          "output_type": "stream",
          "name": "stdout",
          "text": [
            "hollow knight\n",
            "Forza Horizon 5\n",
            "Skate.\n",
            "ForzaMotorsport\n",
            "0\n",
            "1\n",
            "2\n",
            "3\n",
            "4\n",
            "-8\n",
            "-5\n",
            "-2\n",
            "1\n",
            "4\n",
            "7\n",
            "10\n",
            "13\n",
            "16\n"
          ]
        }
      ]
    },
    {
      "cell_type": "code",
      "source": [
        "def add(a,b):\n",
        "  print(a+b)\n",
        "\n",
        "add(9,19)"
      ],
      "metadata": {
        "colab": {
          "base_uri": "https://localhost:8080/"
        },
        "id": "yWdXn6vzhbtg",
        "outputId": "f3a0df2e-916e-42ff-be5d-9fee5ab76f27"
      },
      "execution_count": 27,
      "outputs": [
        {
          "output_type": "stream",
          "name": "stdout",
          "text": [
            "28\n"
          ]
        }
      ]
    }
  ]
}